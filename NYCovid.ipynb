{
 "cells": [
  {
   "cell_type": "code",
   "execution_count": 27,
   "metadata": {},
   "outputs": [],
   "source": [
    "import requests\n",
    "import pandas as pd\n",
    "import bs4\n",
    "from bs4 import BeautifulSoup\n",
    "import sqlalchemy\n",
    "from sqlalchemy import create_engine"
   ]
  },
  {
   "cell_type": "code",
   "execution_count": 28,
   "metadata": {},
   "outputs": [],
   "source": [
    "conn = create_engine('sqlite://')"
   ]
  },
  {
   "cell_type": "code",
   "execution_count": 33,
   "metadata": {},
   "outputs": [],
   "source": [
    "res = requests.get(\"https://coronavirus.health.ny.gov/county-county-breakdown-positive-cases\")\n",
    "soup = BeautifulSoup(res.content,'lxml')\n",
    "table = soup.find_all('table')[0] \n",
    "NY = pd.read_html(str(table))[0]"
   ]
  },
  {
   "cell_type": "code",
   "execution_count": 34,
   "metadata": {},
   "outputs": [],
   "source": [
    "res = requests.get(\"https://www.newyork-demographics.com/counties_by_population\")\n",
    "soup = BeautifulSoup(res.content,'lxml')\n",
    "table = soup.find_all('table')[0] \n",
    "NYPop = pd.read_html(str(table))[0]"
   ]
  },
  {
   "cell_type": "code",
   "execution_count": 35,
   "metadata": {},
   "outputs": [],
   "source": [
    "NYPop.to_sql('NYPop',conn, if_exists='replace')\n",
    "#NY.to_sql('NYCov', conn, if_exists='replace')"
   ]
  },
  {
   "cell_type": "code",
   "execution_count": 48,
   "metadata": {},
   "outputs": [],
   "source": [
    "NYCovid = pd.read_sql('''\n",
    "With Pop as (\n",
    "Select \n",
    "case when County in (\n",
    "'Kings County','Queens County', 'New York County', 'Bronx County','Richmond County')\n",
    "then 'New York City'\n",
    "else replace(County,'County','') end as County,\n",
    "sum(Population) as Population\n",
    "from NYPop\n",
    "group by \n",
    "case when County in (\n",
    "'Kings County','Queens County', 'New York County', 'Bronx County','Richmond County')\n",
    "then 'New York City'\n",
    "else replace(County,'County','') end\n",
    ")\n",
    "\n",
    "Select p.County, p.Population, case when [Positive Cases] is null then 0 else [Positive Cases] end as PositiveCases from Pop p\n",
    "LEFT JOIN NYCov c on ltrim(rtrim(c.County))=ltrim(rtrim(p.County))\n",
    "where p.County not like '%United States%'\n",
    "''',conn)"
   ]
  },
  {
   "cell_type": "code",
   "execution_count": 50,
   "metadata": {},
   "outputs": [],
   "source": [
    "NYCovid.to_csv('NYCovid')"
   ]
  },
  {
   "cell_type": "code",
   "execution_count": null,
   "metadata": {},
   "outputs": [],
   "source": []
  }
 ],
 "metadata": {
  "kernelspec": {
   "display_name": "Python 3",
   "language": "python",
   "name": "python3"
  },
  "language_info": {
   "codemirror_mode": {
    "name": "ipython",
    "version": 3
   },
   "file_extension": ".py",
   "mimetype": "text/x-python",
   "name": "python",
   "nbconvert_exporter": "python",
   "pygments_lexer": "ipython3",
   "version": "3.7.6"
  },
  "toc": {
   "base_numbering": 1,
   "nav_menu": {},
   "number_sections": false,
   "sideBar": false,
   "skip_h1_title": false,
   "title_cell": "Table of Contents",
   "title_sidebar": "Contents",
   "toc_cell": false,
   "toc_position": {},
   "toc_section_display": false,
   "toc_window_display": false
  }
 },
 "nbformat": 4,
 "nbformat_minor": 4
}
